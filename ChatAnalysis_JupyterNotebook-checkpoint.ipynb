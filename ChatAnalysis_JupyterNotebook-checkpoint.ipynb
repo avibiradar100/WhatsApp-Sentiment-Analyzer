{
 "cells": [
  {
   "cell_type": "code",
   "execution_count": 7,
   "id": "8f72bcd6",
   "metadata": {},
   "outputs": [],
   "source": [
    "import re\n",
    "import pandas as pd\n"
   ]
  },
  {
   "cell_type": "code",
   "execution_count": 8,
   "id": "0b6d6223",
   "metadata": {},
   "outputs": [],
   "source": [
    "def date_time(s):\n",
    "    pattern = '^([0-9]+)(\\/)([0-9]+)(\\/)([0-9]+), ([0-9]+):([0-9]+)[ ]?(AM|PM|am|pm)? -'\n",
    "    result = re.match(pattern, s)\n",
    "    if result:\n",
    "        return True\n",
    "    else:\n",
    "        pattern = '\\d{1,2}/\\d{1,2}/\\d{2,4},\\s\\d{1,2}:\\d{2}\\s-\\s'\n",
    "        result = re.match(pattern, s)\n",
    "        if result:\n",
    "            return True\n",
    "        else:\n",
    "            return False\n"
   ]
  },
  {
   "cell_type": "code",
   "execution_count": 9,
   "id": "e62f36d5",
   "metadata": {},
   "outputs": [],
   "source": [
    "def getDatapoint(line):\n",
    "    splitline = line.split(' - ')\n",
    "    dateTime = splitline[0]\n",
    "    date, time = dateTime.split(\", \")\n",
    "    message = \" \".join(splitline[1:])\n",
    "    splitmessage = message.split(\": \")\n",
    "    if splitmessage[1:]:\n",
    "        author = splitmessage[0]\n",
    "        message = \" \".join(splitmessage[1:])\n",
    "    else:\n",
    "        author = 'group_notification'\n",
    "        message = splitmessage[0]\n",
    "    return date, time, author, message\n"
   ]
  },
  {
   "cell_type": "code",
   "execution_count": 10,
   "id": "15bc8953",
   "metadata": {},
   "outputs": [],
   "source": [
    "data = []\n",
    "conversation = 'aa.txt'\n",
    "fp=open('WhatsApp Chat with TY-MP T3-11.txt','r',encoding='utf-8');\n",
    "fp.readline()\n",
    "messageBuffer = []\n",
    "date, time, user = None, None, None\n",
    "while True:\n",
    "    line = fp.readline()\n",
    "    if not line:\n",
    "        break\n",
    "    line = line.strip()\n",
    "    if date_time(line):\n",
    "        if len(messageBuffer) > 0:\n",
    "            data.append([date, time, user, ' '.join(messageBuffer)])\n",
    "        messageBuffer.clear()\n",
    "        date, time, user, message = getDatapoint(line)\n",
    "        messageBuffer.append(message)\n",
    "    else:\n",
    "        messageBuffer.append(line)"
   ]
  },
  {
   "cell_type": "code",
   "execution_count": null,
   "id": "37d70c03",
   "metadata": {},
   "outputs": [],
   "source": [
    "df = pd.DataFrame(data, columns=[\"date\", 'time', 'user', 'message'])\n",
    "df['date'] = pd.to_datetime(df['date'])\n",
    "df['time'] = pd.to_datetime(df['time'])\n",
    "df.head()"
   ]
  },
  {
   "cell_type": "code",
   "execution_count": 12,
   "id": "41870ef2",
   "metadata": {},
   "outputs": [],
   "source": [
    "df['only_date'] = df['date'].dt.date\n",
    "df['year'] = df['date'].dt.year\n",
    "df['month_num'] = df['date'].dt.month\n",
    "df['month'] = df['date'].dt.month_name()\n",
    "df['day'] = df['date'].dt.day\n",
    "df['day_name'] = df['date'].dt.day_name()\n",
    "df['hour'] = df['time'].dt.hour\n",
    "df['minute'] = df['time'].dt.minute"
   ]
  },
  {
   "cell_type": "code",
   "execution_count": null,
   "id": "db77739a",
   "metadata": {},
   "outputs": [],
   "source": [
    "df.head(20)"
   ]
  }
 ],
 "metadata": {
  "kernelspec": {
   "display_name": "Python 3 (ipykernel)",
   "language": "python",
   "name": "python3"
  },
  "language_info": {
   "codemirror_mode": {
    "name": "ipython",
    "version": 3
   },
   "file_extension": ".py",
   "mimetype": "text/x-python",
   "name": "python",
   "nbconvert_exporter": "python",
   "pygments_lexer": "ipython3",
   "version": "3.7.0"
  }
 },
 "nbformat": 4,
 "nbformat_minor": 5
}
